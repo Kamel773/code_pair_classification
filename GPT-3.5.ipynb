{
 "cells": [
  {
   "cell_type": "code",
   "execution_count": 2,
   "id": "132345fd",
   "metadata": {},
   "outputs": [
    {
     "name": "stderr",
     "output_type": "stream",
     "text": [
      "/Users/kamel/opt/anaconda3/lib/python3.9/site-packages/scipy/__init__.py:146: UserWarning: A NumPy version >=1.16.5 and <1.23.0 is required for this version of SciPy (detected version 1.26.0\n",
      "  warnings.warn(f\"A NumPy version >={np_minversion} and <{np_maxversion}\"\n"
     ]
    }
   ],
   "source": [
    "import os\n",
    "import pickle, random\n",
    "import numpy as np\n",
    "import faiss\n",
    "import tqdm\n",
    "import json, tiktoken\n",
    "from sklearn.metrics import accuracy_score\n",
    "from sklearn.metrics import classification_report\n",
    "from sklearn.metrics import f1_score\n",
    "import difflib, requests\n",
    "import openai\n",
    "import random, time\n",
    "import google.generativeai as palm\n",
    "\n",
    "openai.api_key = \"Your Token\""
   ]
  },
  {
   "cell_type": "markdown",
   "id": "df3a8f02",
   "metadata": {},
   "source": [
    "### Loading the embedding"
   ]
  },
  {
   "cell_type": "markdown",
   "id": "5cedd361",
   "metadata": {},
   "source": [
    "We embedded the training and test sets using the OpenAI model. Then, we input these embeddings into FAISS to select the relevant examples for in-context learning."
   ]
  },
  {
   "cell_type": "code",
   "execution_count": 3,
   "id": "90f3f76c",
   "metadata": {},
   "outputs": [],
   "source": [
    "filel = open('Embedding/PyPIBugs_embedding_Training', 'rb')\n",
    "PyPiBugs_training = pickle.load(filel)"
   ]
  },
  {
   "cell_type": "code",
   "execution_count": 5,
   "id": "aaaee63b",
   "metadata": {},
   "outputs": [],
   "source": [
    "file = open('Embedding/PyPIBugs_embedding_Testing', 'rb')\n",
    "PyPiBugs_testing = pickle.load(file)\n"
   ]
  },
  {
   "cell_type": "markdown",
   "id": "47817007",
   "metadata": {},
   "source": [
    "# FAISS"
   ]
  },
  {
   "cell_type": "markdown",
   "id": "8e29985d",
   "metadata": {},
   "source": [
    "We implemented FAISS to select the most similar examples from the training set for each test example."
   ]
  },
  {
   "cell_type": "code",
   "execution_count": 6,
   "id": "044f30c1",
   "metadata": {},
   "outputs": [
    {
     "name": "stdout",
     "output_type": "stream",
     "text": [
      "1536\n"
     ]
    }
   ],
   "source": [
    "d = PyPiBugs_training.shape[1]\n",
    "print(d)"
   ]
  },
  {
   "cell_type": "code",
   "execution_count": 7,
   "id": "15a4ec81",
   "metadata": {},
   "outputs": [],
   "source": [
    "index = faiss.IndexFlatL2(d)"
   ]
  },
  {
   "cell_type": "code",
   "execution_count": 8,
   "id": "fa2b8614",
   "metadata": {},
   "outputs": [
    {
     "data": {
      "text/plain": [
       "True"
      ]
     },
     "execution_count": 8,
     "metadata": {},
     "output_type": "execute_result"
    }
   ],
   "source": [
    "index.is_trained"
   ]
  },
  {
   "cell_type": "code",
   "execution_count": 9,
   "id": "9b15b75a",
   "metadata": {},
   "outputs": [],
   "source": [
    "index.add(PyPiBugs_training)"
   ]
  },
  {
   "cell_type": "code",
   "execution_count": 10,
   "id": "d94de2bc",
   "metadata": {},
   "outputs": [
    {
     "data": {
      "text/plain": [
       "3662"
      ]
     },
     "execution_count": 10,
     "metadata": {},
     "output_type": "execute_result"
    }
   ],
   "source": [
    "index.ntotal"
   ]
  },
  {
   "cell_type": "code",
   "execution_count": 11,
   "id": "c9d1aa49",
   "metadata": {},
   "outputs": [
    {
     "name": "stderr",
     "output_type": "stream",
     "text": [
      "100%|███████████████████████████████████████| 458/458 [00:00<00:00, 1314.27it/s]\n"
     ]
    }
   ],
   "source": [
    "Idx = []\n",
    "for i in tqdm.tqdm(range(len(PyPiBugs_testing))):\n",
    "    k = 4\n",
    "    xq = np.array(PyPiBugs_testing[i][0])\n",
    "    xq = xq.reshape(1, 1536)\n",
    "    D, I = index.search(xq, k)\n",
    "    Idx.append([\"Traning_ID\", I, \"Testing_ID\", i])# , \"Distance\", D"
   ]
  },
  {
   "cell_type": "markdown",
   "id": "5f6c36c8",
   "metadata": {},
   "source": [
    "### Loading the dataset\n"
   ]
  },
  {
   "cell_type": "code",
   "execution_count": 13,
   "id": "c4b12e90",
   "metadata": {},
   "outputs": [],
   "source": [
    "with open('PyPIBugs/train.jsonl', 'r') as json_file:    \n",
    "    json_list_traning = list(json_file)\n",
    "    \n",
    "with open('PyPIBugs/test.jsonl', 'r') as json_file:    \n",
    "    json_list_testing = list(json_file)"
   ]
  },
  {
   "cell_type": "code",
   "execution_count": 14,
   "id": "276fdf5d",
   "metadata": {},
   "outputs": [],
   "source": [
    "def num_tokens_from_string(string: str, encoding_name: str) -> int:\n",
    "    \"\"\"Returns the number of tokens in a text string.\"\"\"\n",
    "    encoding = tiktoken.get_encoding(encoding_name)\n",
    "    num_tokens = len(encoding.encode(string))\n",
    "    return num_tokens"
   ]
  },
  {
   "cell_type": "code",
   "execution_count": 15,
   "id": "16134e68",
   "metadata": {},
   "outputs": [],
   "source": [
    "labeling = []\n",
    "shot_MAX = 4"
   ]
  },
  {
   "cell_type": "markdown",
   "id": "c08ab258",
   "metadata": {},
   "source": [
    "### Code-Pair Classification"
   ]
  },
  {
   "cell_type": "code",
   "execution_count": null,
   "id": "faa40419",
   "metadata": {
    "scrolled": false
   },
   "outputs": [],
   "source": [
    "print('Starting at ',(len(labeling))*2)\n",
    "for counter, index in enumerate(tqdm.tqdm((range(((len(labeling))*2), 458, 2)))):\n",
    "\n",
    "    function_1 = json.loads(json_list_testing[index])\n",
    "    function_2 = json.loads(json_list_testing[index+1])\n",
    "    few_shot = '''For each pair of code snippets, identify the ones that contain bugs.\n",
    "    The response should be either 'Code 1' or 'Code 2'. The answer must be precisely 'Code 1' or 'Code 2'.\n",
    "    '''\n",
    "        \n",
    "    samples = []\n",
    "    for index_ in Idx[index][1][0]:\n",
    "        function = json_list_traning[index_]\n",
    "        result = json.loads(function)\n",
    "        func = result['func']\n",
    "        samples.append(index_)\n",
    "        \n",
    "    \n",
    "    duplicate = []\n",
    "    shot = 0\n",
    "    for f in samples:\n",
    "        if f in duplicate:\n",
    "            continue\n",
    "        if shot == shot_MAX:\n",
    "            break\n",
    "        shot = + 1\n",
    "        function = json_list_traning[f]\n",
    "        duplicate.append(f)\n",
    "        result = json.loads(function)\n",
    "        func = result['func']\n",
    "        Label = (\"Code 1\") if result[\"target\"] == 0 else (\"Code 2\")\n",
    "        \n",
    "        if Label == \"Code 1\":\n",
    "            function_pair = json_list_traning[f+1]\n",
    "            duplicate.append(f+1)\n",
    "            result_pair = json.loads(function_pair)\n",
    "            func_pair = result_pair['func']\n",
    "            Label_pair = (\"Code 1\") if result_pair[\"target\"] == 0 else (\"Code 2\")\n",
    "        else:\n",
    "            function_pair = json_list_traning[f-1]\n",
    "            duplicate.append(f-1)\n",
    "            result_pair = json.loads(function_pair)\n",
    "            func_pair = result_pair['func']\n",
    "            Label_pair = (\"Code 1\") if result_pair[\"target\"] == 0 else (\"Code 2\")\n",
    "        \n",
    "        if counter % 2 != 0:\n",
    "            few_shot = few_shot + '\\nCode 1: ' + func + '\\n' + '\\nCode 2: \"' + func_pair + '\"\\n' + 'Label: Code 2' +  '\\n### END ###\\n'\n",
    "        else:\n",
    "            few_shot = few_shot + '\\nCode 2: ' + func_pair + '\\n' + '\\nCode 1: \"' + func + '\"\\n' + 'Label: Code 1' +  '\\n### END ###\\n'\n",
    "        \n",
    "    \n",
    "    prompt_testing_example =  \"\\Code 1: \" + str(function_1[\"func\"]) + \"\\n\" + \"Code 2: \" + str(function_2[\"func\"]) + \"\\\"\" + \"\\nlabel: \\n\"\n",
    "\n",
    "    prompt = few_shot + \"\\n\" + prompt_testing_example\n",
    "    \n",
    "    \n",
    "    MODEL = \"gpt-3.5-turbo-16k\"\n",
    "    response = openai.ChatCompletion.create(\n",
    "        model=MODEL,\n",
    "        messages=[\n",
    "            {\"role\": \"user\", \"content\": prompt}\n",
    "        ],\n",
    "        temperature=0,\n",
    "    )\n",
    "    #time.sleep(13)\n",
    "    labeling.append(response.choices[0].message.content)\n",
    "    #break"
   ]
  },
  {
   "cell_type": "code",
   "execution_count": null,
   "id": "96330877",
   "metadata": {},
   "outputs": [],
   "source": [
    "Predict_label = []\n",
    "count = 0\n",
    "for i in labeling:\n",
    "    if i[:6] == 'Code 2':\n",
    "        count = count + 1\n",
    "        Predict_label.append(1)\n",
    "    else:\n",
    "        Predict_label.append(0)\n",
    "print(len(Predict_label))\n",
    "Correct_label = [1] * int((len(Predict_label)))\n",
    "\n",
    "print(len(Correct_label))\n",
    "print(count)"
   ]
  },
  {
   "cell_type": "code",
   "execution_count": null,
   "id": "e7d9de20",
   "metadata": {},
   "outputs": [],
   "source": [
    "print('f1_score: ', round((f1_score(Correct_label, Predict_label) * 100),2))\n",
    "print('accuracy_score: ',round((accuracy_score(Correct_label, Predict_label) * 100),2))"
   ]
  },
  {
   "cell_type": "code",
   "execution_count": null,
   "id": "4c821922",
   "metadata": {},
   "outputs": [],
   "source": [
    "print(classification_report(Correct_label, Predict_label))"
   ]
  },
  {
   "cell_type": "code",
   "execution_count": null,
   "id": "ec65ffb8",
   "metadata": {},
   "outputs": [],
   "source": []
  }
 ],
 "metadata": {
  "kernelspec": {
   "display_name": "Python 3 (ipykernel)",
   "language": "python",
   "name": "python3"
  },
  "language_info": {
   "codemirror_mode": {
    "name": "ipython",
    "version": 3
   },
   "file_extension": ".py",
   "mimetype": "text/x-python",
   "name": "python",
   "nbconvert_exporter": "python",
   "pygments_lexer": "ipython3",
   "version": "3.9.12"
  }
 },
 "nbformat": 4,
 "nbformat_minor": 5
}
